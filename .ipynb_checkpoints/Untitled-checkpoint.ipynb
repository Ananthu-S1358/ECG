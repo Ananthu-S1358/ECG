{
 "cells": [
  {
   "cell_type": "code",
   "execution_count": 1,
   "id": "e53a3252-8c36-4e2d-8b0a-2431551ef768",
   "metadata": {},
   "outputs": [],
   "source": [
    "import sys\n",
    "import numpy as np\n",
    "import cv2\n",
    "#from tensorflow import keras\n",
    "from keras.models import model_from_json"
   ]
  },
  {
   "cell_type": "code",
   "execution_count": 2,
   "id": "38f4e2ed-668a-469f-9817-14c47007ce03",
   "metadata": {},
   "outputs": [],
   "source": [
    "json_file = open(\"./heartDisease1.json\", \"r\")\n",
    "model_json = json_file.read()\n",
    "json_file.close()\n",
    "model = model_from_json(model_json)\n",
    "model.load_weights(\"./heartDisease1.h5\")\n",
    "label = ['Myocardial Infarction','History of MI ','abnormal heartbeat','Normal']"
   ]
  },
  {
   "cell_type": "code",
   "execution_count": 3,
   "id": "3429408d-7e34-4979-b30a-bc284a5e12ff",
   "metadata": {},
   "outputs": [],
   "source": [
    "def preprocess_image(image_path):\n",
    "    image = cv2.imread(image_path)\n",
    "    image = cv2.cvtColor(image, cv2.COLOR_BGR2RGB)\n",
    "    image = cv2.resize(image, (224, 224))\n",
    "    image = image.astype('float32') / 255.0\n",
    "    print(image.shape) \n",
    "    image = np.expand_dims(image, axis=0)\n",
    "    print(image.shape)  # Add batch dimension\n",
    "    return image\n",
    "def predict_image(image_path, model, labels):\n",
    "    image = preprocess_image(image_path)\n",
    "    prediction = model.predict(image)\n",
    "    predicted_class = np.argmax(prediction, axis=1)[0]\n",
    "    return labels[predicted_class]"
   ]
  },
  {
   "cell_type": "code",
   "execution_count": 4,
   "id": "081fa77e-35d5-40dd-a3d4-9bca2f64bf34",
   "metadata": {},
   "outputs": [
    {
     "name": "stdout",
     "output_type": "stream",
     "text": [
      "(224, 224, 3)\n",
      "(1, 224, 224, 3)\n",
      "\u001b[1m1/1\u001b[0m \u001b[32m━━━━━━━━━━━━━━━━━━━━\u001b[0m\u001b[37m\u001b[0m \u001b[1m0s\u001b[0m 183ms/step\n",
      "abnormal heartbeat\n"
     ]
    }
   ],
   "source": [
    "image = \"dataset/test/ECG Images of Patient that have abnormal heartbeat (233x12=2796)/test (112).jpg\"\n",
    "disease = predict_image(image,model, label)\n",
    "print(disease)"
   ]
  },
  {
   "cell_type": "code",
   "execution_count": null,
   "id": "bf24ccdf-753e-49cf-9174-1dcf524921a7",
   "metadata": {},
   "outputs": [],
   "source": []
  },
  {
   "cell_type": "code",
   "execution_count": null,
   "id": "91e4aea5-4b18-442c-8751-794d19f74da2",
   "metadata": {},
   "outputs": [],
   "source": []
  }
 ],
 "metadata": {
  "kernelspec": {
   "display_name": "Python 3 (ipykernel)",
   "language": "python",
   "name": "python3"
  },
  "language_info": {
   "codemirror_mode": {
    "name": "ipython",
    "version": 3
   },
   "file_extension": ".py",
   "mimetype": "text/x-python",
   "name": "python",
   "nbconvert_exporter": "python",
   "pygments_lexer": "ipython3",
   "version": "3.12.3"
  }
 },
 "nbformat": 4,
 "nbformat_minor": 5
}
