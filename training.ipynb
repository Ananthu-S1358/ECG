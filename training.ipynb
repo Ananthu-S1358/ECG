{
 "cells": [
  {
   "cell_type": "code",
   "execution_count": 1,
   "id": "0febd6e3-4e56-49e2-94dd-cf80f86b316a",
   "metadata": {},
   "outputs": [],
   "source": [
    "import numpy as np\n",
    "import cv2\n",
    "import os\n",
    "from sklearn.model_selection import train_test_split\n",
    "import keras\n",
    "from keras.models import Sequential\n",
    "from keras.layers import Conv2D, MaxPooling2D, Flatten, Dense, Dropout\n"
   ]
  },
  {
   "cell_type": "code",
   "execution_count": 2,
   "id": "218090fc-922c-4066-a6ad-efc958c1878c",
   "metadata": {},
   "outputs": [],
   "source": [
    "def load_data(path, label_dict):\n",
    "    data = []\n",
    "    label = []\n",
    "    for cat, label_value in label_dict.items():\n",
    "        pic_list = os.path.join(path, cat)\n",
    "        for img in os.listdir(pic_list):\n",
    "            image_path = os.path.join(pic_list, img)\n",
    "            image = cv2.imread(image_path)\n",
    "            image = cv2.cvtColor(image, cv2.COLOR_BGR2RGB)\n",
    "            image = cv2.resize(image, (224, 224))\n",
    "            data.append(image)\n",
    "            label.append(label_value)\n",
    "    return np.array(data), np.array(label)"
   ]
  },
  {
   "cell_type": "code",
   "execution_count": 3,
   "id": "015e40f4-7981-4b6d-bb6b-a912b9438e1a",
   "metadata": {},
   "outputs": [],
   "source": [
    "label_dict = {\n",
    "    'ECG Images of Myocardial Infarction Patients (240x12=2880)': 0,\n",
    "    'ECG Images of Patient that have History of MI (172x12=2064)': 1,\n",
    "    'ECG Images of Patient that have abnormal heartbeat (233x12=2796)': 2,\n",
    "    'Normal Person ECG Images (284x12=3408)': 3\n",
    "}\n",
    "path = 'dataset/train'\n",
    "data, label = load_data(path, label_dict)\n",
    "data = data.astype('float32') / 255.0\n",
    "num_classes = len(label_dict)\n",
    "label = keras.utils.to_categorical(label, num_classes)\n",
    "train_data, test_data, train_label, test_label = train_test_split(data, label, test_size=0.2, random_state=42)\n"
   ]
  },
  {
   "cell_type": "code",
   "execution_count": 5,
   "id": "5e56b555-6e72-46af-90b0-a65678bbd47e",
   "metadata": {},
   "outputs": [
    {
     "name": "stderr",
     "output_type": "stream",
     "text": [
      "C:\\Users\\ANANTHU\\AppData\\Local\\Programs\\Python\\Python312\\Lib\\site-packages\\keras\\src\\layers\\convolutional\\base_conv.py:107: UserWarning: Do not pass an `input_shape`/`input_dim` argument to a layer. When using Sequential models, prefer using an `Input(shape)` object as the first layer in the model instead.\n",
      "  super().__init__(activity_regularizer=activity_regularizer, **kwargs)\n"
     ]
    },
    {
     "name": "stdout",
     "output_type": "stream",
     "text": [
      "Epoch 1/20\n",
      "\u001b[1m19/19\u001b[0m \u001b[32m━━━━━━━━━━━━━━━━━━━━\u001b[0m\u001b[37m\u001b[0m \u001b[1m6s\u001b[0m 234ms/step - accuracy: 0.2579 - loss: 1.3923 - val_accuracy: 0.3020 - val_loss: 1.3743\n",
      "Epoch 2/20\n",
      "\u001b[1m19/19\u001b[0m \u001b[32m━━━━━━━━━━━━━━━━━━━━\u001b[0m\u001b[37m\u001b[0m \u001b[1m4s\u001b[0m 219ms/step - accuracy: 0.3042 - loss: 1.3778 - val_accuracy: 0.3020 - val_loss: 1.3730\n",
      "Epoch 3/20\n",
      "\u001b[1m19/19\u001b[0m \u001b[32m━━━━━━━━━━━━━━━━━━━━\u001b[0m\u001b[37m\u001b[0m \u001b[1m4s\u001b[0m 220ms/step - accuracy: 0.2702 - loss: 1.3744 - val_accuracy: 0.3020 - val_loss: 1.3735\n",
      "Epoch 4/20\n",
      "\u001b[1m19/19\u001b[0m \u001b[32m━━━━━━━━━━━━━━━━━━━━\u001b[0m\u001b[37m\u001b[0m \u001b[1m4s\u001b[0m 221ms/step - accuracy: 0.3191 - loss: 1.3673 - val_accuracy: 0.3020 - val_loss: 1.3728\n",
      "Epoch 5/20\n",
      "\u001b[1m19/19\u001b[0m \u001b[32m━━━━━━━━━━━━━━━━━━━━\u001b[0m\u001b[37m\u001b[0m \u001b[1m4s\u001b[0m 220ms/step - accuracy: 0.2959 - loss: 1.3713 - val_accuracy: 0.3020 - val_loss: 1.3737\n",
      "Epoch 6/20\n",
      "\u001b[1m19/19\u001b[0m \u001b[32m━━━━━━━━━━━━━━━━━━━━\u001b[0m\u001b[37m\u001b[0m \u001b[1m4s\u001b[0m 223ms/step - accuracy: 0.3130 - loss: 1.3720 - val_accuracy: 0.3020 - val_loss: 1.3731\n",
      "Epoch 7/20\n",
      "\u001b[1m19/19\u001b[0m \u001b[32m━━━━━━━━━━━━━━━━━━━━\u001b[0m\u001b[37m\u001b[0m \u001b[1m4s\u001b[0m 228ms/step - accuracy: 0.3031 - loss: 1.3729 - val_accuracy: 0.3020 - val_loss: 1.3710\n",
      "Epoch 8/20\n",
      "\u001b[1m19/19\u001b[0m \u001b[32m━━━━━━━━━━━━━━━━━━━━\u001b[0m\u001b[37m\u001b[0m \u001b[1m4s\u001b[0m 218ms/step - accuracy: 0.2997 - loss: 1.3769 - val_accuracy: 0.3020 - val_loss: 1.3697\n",
      "Epoch 9/20\n",
      "\u001b[1m19/19\u001b[0m \u001b[32m━━━━━━━━━━━━━━━━━━━━\u001b[0m\u001b[37m\u001b[0m \u001b[1m4s\u001b[0m 224ms/step - accuracy: 0.2906 - loss: 1.3721 - val_accuracy: 0.3020 - val_loss: 1.3600\n",
      "Epoch 10/20\n",
      "\u001b[1m19/19\u001b[0m \u001b[32m━━━━━━━━━━━━━━━━━━━━\u001b[0m\u001b[37m\u001b[0m \u001b[1m4s\u001b[0m 222ms/step - accuracy: 0.2988 - loss: 1.3513 - val_accuracy: 0.4228 - val_loss: 1.2294\n",
      "Epoch 11/20\n",
      "\u001b[1m19/19\u001b[0m \u001b[32m━━━━━━━━━━━━━━━━━━━━\u001b[0m\u001b[37m\u001b[0m \u001b[1m4s\u001b[0m 220ms/step - accuracy: 0.4105 - loss: 1.1973 - val_accuracy: 0.5034 - val_loss: 1.0316\n",
      "Epoch 12/20\n",
      "\u001b[1m19/19\u001b[0m \u001b[32m━━━━━━━━━━━━━━━━━━━━\u001b[0m\u001b[37m\u001b[0m \u001b[1m4s\u001b[0m 221ms/step - accuracy: 0.4853 - loss: 1.1456 - val_accuracy: 0.4832 - val_loss: 1.0776\n",
      "Epoch 13/20\n",
      "\u001b[1m19/19\u001b[0m \u001b[32m━━━━━━━━━━━━━━━━━━━━\u001b[0m\u001b[37m\u001b[0m \u001b[1m4s\u001b[0m 220ms/step - accuracy: 0.5665 - loss: 0.9701 - val_accuracy: 0.6644 - val_loss: 0.7888\n",
      "Epoch 14/20\n",
      "\u001b[1m19/19\u001b[0m \u001b[32m━━━━━━━━━━━━━━━━━━━━\u001b[0m\u001b[37m\u001b[0m \u001b[1m4s\u001b[0m 221ms/step - accuracy: 0.7095 - loss: 0.7507 - val_accuracy: 0.7651 - val_loss: 0.6535\n",
      "Epoch 15/20\n",
      "\u001b[1m19/19\u001b[0m \u001b[32m━━━━━━━━━━━━━━━━━━━━\u001b[0m\u001b[37m\u001b[0m \u001b[1m4s\u001b[0m 221ms/step - accuracy: 0.7914 - loss: 0.5773 - val_accuracy: 0.8255 - val_loss: 0.4562\n",
      "Epoch 16/20\n",
      "\u001b[1m19/19\u001b[0m \u001b[32m━━━━━━━━━━━━━━━━━━━━\u001b[0m\u001b[37m\u001b[0m \u001b[1m4s\u001b[0m 225ms/step - accuracy: 0.8556 - loss: 0.4022 - val_accuracy: 0.9128 - val_loss: 0.3318\n",
      "Epoch 17/20\n",
      "\u001b[1m19/19\u001b[0m \u001b[32m━━━━━━━━━━━━━━━━━━━━\u001b[0m\u001b[37m\u001b[0m \u001b[1m4s\u001b[0m 229ms/step - accuracy: 0.8643 - loss: 0.3942 - val_accuracy: 0.8658 - val_loss: 0.4713\n",
      "Epoch 18/20\n",
      "\u001b[1m19/19\u001b[0m \u001b[32m━━━━━━━━━━━━━━━━━━━━\u001b[0m\u001b[37m\u001b[0m \u001b[1m5s\u001b[0m 238ms/step - accuracy: 0.9060 - loss: 0.2880 - val_accuracy: 0.8859 - val_loss: 0.3405\n",
      "Epoch 19/20\n",
      "\u001b[1m19/19\u001b[0m \u001b[32m━━━━━━━━━━━━━━━━━━━━\u001b[0m\u001b[37m\u001b[0m \u001b[1m4s\u001b[0m 221ms/step - accuracy: 0.9558 - loss: 0.1219 - val_accuracy: 0.9329 - val_loss: 0.2872\n",
      "Epoch 20/20\n",
      "\u001b[1m19/19\u001b[0m \u001b[32m━━━━━━━━━━━━━━━━━━━━\u001b[0m\u001b[37m\u001b[0m \u001b[1m4s\u001b[0m 225ms/step - accuracy: 0.9804 - loss: 0.0788 - val_accuracy: 0.9463 - val_loss: 0.2375\n"
     ]
    }
   ],
   "source": [
    "model = Sequential()\n",
    "model.add(Conv2D(32, (3, 3), activation='relu', input_shape=(224, 224, 3)))\n",
    "model.add(MaxPooling2D((2, 2)))\n",
    "model.add(Conv2D(32, (3, 3), activation='relu'))\n",
    "model.add(MaxPooling2D((2, 2)))\n",
    "model.add(Conv2D(64, (3, 3), activation='relu'))\n",
    "model.add(MaxPooling2D((2, 2)))\n",
    "model.add(Conv2D(64, (3, 3), activation='relu'))\n",
    "model.add(MaxPooling2D((2, 2)))\n",
    "model.add(Conv2D(128, (3, 3), activation='relu'))\n",
    "model.add(MaxPooling2D((2, 2)))\n",
    "model.add(Conv2D(128, (3, 3), activation='relu'))\n",
    "model.add(MaxPooling2D((2, 2)))\n",
    "model.add(Flatten())\n",
    "model.add(Dense(256, activation='relu'))\n",
    "model.add(Dropout(0.5))\n",
    "model.add(Dense(num_classes, activation='sigmoid'))\n",
    "model.compile(optimizer='adam', loss='categorical_crossentropy', metrics=['accuracy'])\n",
    "history = model.fit(train_data, train_label, epochs=20, batch_size=32, validation_split=0.2)\n"
   ]
  },
  {
   "cell_type": "code",
   "execution_count": 6,
   "id": "4f1d57fc-ad2c-41fc-b1a1-615721bc90d3",
   "metadata": {},
   "outputs": [
    {
     "name": "stdout",
     "output_type": "stream",
     "text": [
      "\u001b[1m14/14\u001b[0m \u001b[32m━━━━━━━━━━━━━━━━━━━━\u001b[0m\u001b[37m\u001b[0m \u001b[1m1s\u001b[0m 74ms/step - accuracy: 0.9740 - loss: 0.1342\n",
      "Test Loss: 0.1732814460992813\n",
      "Test Accuracy: 0.9642857313156128\n"
     ]
    }
   ],
   "source": [
    "test_path = 'dataset/test'\n",
    "\n",
    "# Load test data\n",
    "test_data, test_label = load_data(test_path, label_dict)\n",
    "test_data = test_data.astype('float32') / 255.0\n",
    "test_label = keras.utils.to_categorical(test_label, num_classes)\n",
    "\n",
    "# Evaluate the model on test data\n",
    "test_loss, test_accuracy = model.evaluate(test_data, test_label)\n",
    "print(\"Test Loss:\", test_loss)\n",
    "print(\"Test Accuracy:\", test_accuracy)"
   ]
  },
  {
   "cell_type": "code",
   "execution_count": 7,
   "id": "46adb402-160c-4b9a-beef-338aa0d88476",
   "metadata": {},
   "outputs": [
    {
     "name": "stderr",
     "output_type": "stream",
     "text": [
      "WARNING:absl:You are saving your model as an HDF5 file via `model.save()` or `keras.saving.save_model(model)`. This file format is considered legacy. We recommend using instead the native Keras format, e.g. `model.save('my_model.keras')` or `keras.saving.save_model(model, 'my_model.keras')`. \n"
     ]
    }
   ],
   "source": [
    "model_json = model.to_json()\n",
    "with open(\"heartDisease1.json\",'w') as json_file:\n",
    "    json_file.write(model_json)\n",
    "model.save(\"heartDisease1.h5\")"
   ]
  },
  {
   "cell_type": "code",
   "execution_count": 8,
   "id": "23d12b87-1b90-47a6-b0fe-9c6f8da1c37f",
   "metadata": {},
   "outputs": [],
   "source": [
    "from keras.models import model_from_json"
   ]
  },
  {
   "cell_type": "code",
   "execution_count": 9,
   "id": "d3b6faa8-7853-429d-b5a2-e63d4b7696a2",
   "metadata": {},
   "outputs": [],
   "source": [
    "json_file = open(\"heartDisease.json\", \"r\")\n",
    "model_json = json_file.read()\n",
    "json_file.close()\n",
    "model = model_from_json(model_json)\n",
    "model.load_weights(\"heartDisease.h5\")"
   ]
  },
  {
   "cell_type": "code",
   "execution_count": 10,
   "id": "0522ed2d-24fb-40e8-8ac8-c952b5b63528",
   "metadata": {},
   "outputs": [],
   "source": [
    "label = ['Myocardial Infarction','History of MI ','abnormal heartbeat','Normal ']"
   ]
  },
  {
   "cell_type": "code",
   "execution_count": 11,
   "id": "69dce327-8dbb-4234-a7f6-92f10482f455",
   "metadata": {},
   "outputs": [],
   "source": [
    "def preprocess_image(image_path):\n",
    "    image = cv2.imread(image_path)\n",
    "    image = cv2.cvtColor(image, cv2.COLOR_BGR2RGB)\n",
    "    image = cv2.resize(image, (224, 224))\n",
    "    image = image.astype('float32') / 255.0\n",
    "    image = np.expand_dims(image, axis=0)  # Add batch dimension\n",
    "    return image"
   ]
  },
  {
   "cell_type": "code",
   "execution_count": 12,
   "id": "c4203d90-7961-4893-85f4-d7634f1b5997",
   "metadata": {},
   "outputs": [],
   "source": [
    "def predict_image(image_path, model, labels):\n",
    "    image = preprocess_image(image_path)\n",
    "    prediction = model.predict(image)\n",
    "    predicted_class = np.argmax(prediction, axis=1)[0]\n",
    "    print(f\"Predicted Class: {labels[predicted_class]}\")"
   ]
  },
  {
   "cell_type": "code",
   "execution_count": 13,
   "id": "d74adb63-b8f0-404d-89fe-95ebf5a9fee1",
   "metadata": {},
   "outputs": [
    {
     "name": "stdout",
     "output_type": "stream",
     "text": [
      "\u001b[1m1/1\u001b[0m \u001b[32m━━━━━━━━━━━━━━━━━━━━\u001b[0m\u001b[37m\u001b[0m \u001b[1m0s\u001b[0m 75ms/step\n",
      "Predicted Class: History of MI \n"
     ]
    }
   ],
   "source": [
    "# Test the model on individual images\n",
    "image_path = 'dataset/test/ECG Images of Patient that have History of MI (172x12=2064)/test (99).jpg'  # Replace with the path to your image\n",
    "predict_image(image_path,model, label)"
   ]
  },
  {
   "cell_type": "code",
   "execution_count": 14,
   "id": "99decc50-252b-434a-9a5f-6384115b69e3",
   "metadata": {},
   "outputs": [
    {
     "name": "stdout",
     "output_type": "stream",
     "text": [
      "\u001b[1m1/1\u001b[0m \u001b[32m━━━━━━━━━━━━━━━━━━━━\u001b[0m\u001b[37m\u001b[0m \u001b[1m0s\u001b[0m 17ms/step\n",
      "Predicted Class: Myocardial Infarction\n"
     ]
    }
   ],
   "source": [
    "image_path = 'dataset/test/ECG Images of Myocardial Infarction Patients (240x12=2880)/test (43).jpg'  # Replace with the path to your image\n",
    "predict_image(image_path,model, label)"
   ]
  },
  {
   "cell_type": "code",
   "execution_count": 15,
   "id": "6d7f938d-3405-4678-b4a6-18beb80a1867",
   "metadata": {},
   "outputs": [
    {
     "name": "stdout",
     "output_type": "stream",
     "text": [
      "\u001b[1m1/1\u001b[0m \u001b[32m━━━━━━━━━━━━━━━━━━━━\u001b[0m\u001b[37m\u001b[0m \u001b[1m0s\u001b[0m 23ms/step\n",
      "Predicted Class: abnormal heartbeat\n"
     ]
    }
   ],
   "source": [
    "image_path = 'dataset/test/ECG Images of Patient that have abnormal heartbeat (233x12=2796)/test (112).jpg'  # Replace with the path to your image\n",
    "predict_image(image_path,model, label)"
   ]
  },
  {
   "cell_type": "code",
   "execution_count": null,
   "id": "42f0e235-241a-40b5-9ca0-2064c68939cc",
   "metadata": {},
   "outputs": [],
   "source": []
  }
 ],
 "metadata": {
  "kernelspec": {
   "display_name": "Python 3 (ipykernel)",
   "language": "python",
   "name": "python3"
  },
  "language_info": {
   "codemirror_mode": {
    "name": "ipython",
    "version": 3
   },
   "file_extension": ".py",
   "mimetype": "text/x-python",
   "name": "python",
   "nbconvert_exporter": "python",
   "pygments_lexer": "ipython3",
   "version": "3.12.3"
  }
 },
 "nbformat": 4,
 "nbformat_minor": 5
}
